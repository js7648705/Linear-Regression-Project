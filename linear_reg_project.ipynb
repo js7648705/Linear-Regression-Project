{
 "cells": [
  {
   "cell_type": "markdown",
   "metadata": {},
   "source": [
    "#  Linear Regression Project"
   ]
  },
  {
   "cell_type": "markdown",
   "metadata": {},
   "source": [
    "In this project we will explore some features that affect fuel consumption in miles per gallon (MPG) answering some questions about automatic and manual transmissions (am). We are interested in exploring the relationship between a set of variables and Miles Per Gallon (MPG).\n",
    "\n",
    "In particularly we want answer two questions:\n",
    "\n",
    "- Is an automatic or manual transmission better for MPG?\n",
    "- Quantifying how different is the MPG between automatic and manual transmissions?\n",
    "\n",
    "The data of this project is extracted from the 1974 Motor Trend US magazine.\n",
    "\n",
    "The data consists of 32 observations on 11 variables.\n",
    "\n",
    "- **mpg**:\t Miles/(US) gallon\n",
    "- **cyl**:\t Number of cylinders\n",
    "- **disp**:\t Displacement (cu.in.)\n",
    "- **hp**:\t Gross horsepower\n",
    "- **drat**:\t Rear axle ratio\n",
    "- **wt**:\t Weight (lb/1000)\n",
    "- **qsec**:\t 1/4 mile time\n",
    "- **vs**:\t V/S\n",
    "- **am**:\t Transmission (0 = automatic, 1 = manual)\n",
    "- **gear**:\t Number of forward gears\n",
    "- **carb**:\t Number of carburetors"
   ]
  },
  {
   "cell_type": "markdown",
   "metadata": {},
   "source": [
    "## Importing Required Libraries"
   ]
  },
  {
   "cell_type": "code",
   "execution_count": 797,
   "metadata": {},
   "outputs": [],
   "source": [
    "import pandas as pd\n",
    "import numpy as np\n",
    "import seaborn as sns\n",
    "import statsmodels.api as sm\n",
    "import scipy.stats as stats\n",
    "import matplotlib.pyplot as plt\n",
    "%matplotlib inline "
   ]
  },
  {
   "cell_type": "markdown",
   "metadata": {},
   "source": [
    "## Loading Data"
   ]
  },
  {
   "cell_type": "code",
   "execution_count": 798,
   "metadata": {},
   "outputs": [],
   "source": [
    "cars = pd.read_csv('file.csv') # loading the csv file that contains cars-data "
   ]
  },
  {
   "cell_type": "markdown",
   "metadata": {},
   "source": [
    "## Explorartory Data Analysis"
   ]
  },
  {
   "cell_type": "code",
   "execution_count": 799,
   "metadata": {},
   "outputs": [
    {
     "name": "stdout",
     "output_type": "stream",
     "text": [
      "<class 'pandas.core.frame.DataFrame'>\n",
      "RangeIndex: 32 entries, 0 to 31\n",
      "Data columns (total 12 columns):\n",
      " #   Column      Non-Null Count  Dtype  \n",
      "---  ------      --------------  -----  \n",
      " 0   Unnamed: 0  32 non-null     object \n",
      " 1   mpg         32 non-null     float64\n",
      " 2   cyl         32 non-null     int64  \n",
      " 3   disp        32 non-null     float64\n",
      " 4   hp          32 non-null     int64  \n",
      " 5   drat        32 non-null     float64\n",
      " 6   wt          32 non-null     float64\n",
      " 7   qsec        32 non-null     float64\n",
      " 8   vs          32 non-null     int64  \n",
      " 9   am          32 non-null     int64  \n",
      " 10  gear        32 non-null     int64  \n",
      " 11  carb        32 non-null     int64  \n",
      "dtypes: float64(5), int64(6), object(1)\n",
      "memory usage: 3.1+ KB\n"
     ]
    }
   ],
   "source": [
    "cars.info()  # shows no. of observation, columns and datatypes of each column"
   ]
  },
  {
   "cell_type": "markdown",
   "metadata": {},
   "source": [
    " The data has 32 observations and 12 columns"
   ]
  },
  {
   "cell_type": "code",
   "execution_count": 800,
   "metadata": {},
   "outputs": [],
   "source": [
    "cars.columns = ['car_models', 'mpg', 'cyl', 'disp', 'hp', 'drat', 'wt', 'qsec', 'vs', 'am', 'gear', 'carb']"
   ]
  },
  {
   "cell_type": "code",
   "execution_count": 801,
   "metadata": {},
   "outputs": [],
   "source": [
    "cars['am'] = cars['am'].map({1:'Manual',0:\"Automatic\"})"
   ]
  },
  {
   "cell_type": "code",
   "execution_count": 802,
   "metadata": {},
   "outputs": [
    {
     "data": {
      "text/html": [
       "<div>\n",
       "<style scoped>\n",
       "    .dataframe tbody tr th:only-of-type {\n",
       "        vertical-align: middle;\n",
       "    }\n",
       "\n",
       "    .dataframe tbody tr th {\n",
       "        vertical-align: top;\n",
       "    }\n",
       "\n",
       "    .dataframe thead th {\n",
       "        text-align: right;\n",
       "    }\n",
       "</style>\n",
       "<table border=\"1\" class=\"dataframe\">\n",
       "  <thead>\n",
       "    <tr style=\"text-align: right;\">\n",
       "      <th></th>\n",
       "      <th>car_models</th>\n",
       "      <th>mpg</th>\n",
       "      <th>cyl</th>\n",
       "      <th>disp</th>\n",
       "      <th>hp</th>\n",
       "      <th>drat</th>\n",
       "      <th>wt</th>\n",
       "      <th>qsec</th>\n",
       "      <th>vs</th>\n",
       "      <th>am</th>\n",
       "      <th>gear</th>\n",
       "      <th>carb</th>\n",
       "    </tr>\n",
       "  </thead>\n",
       "  <tbody>\n",
       "    <tr>\n",
       "      <th>0</th>\n",
       "      <td>Mazda RX4</td>\n",
       "      <td>21.0</td>\n",
       "      <td>6</td>\n",
       "      <td>160.0</td>\n",
       "      <td>110</td>\n",
       "      <td>3.90</td>\n",
       "      <td>2.620</td>\n",
       "      <td>16.46</td>\n",
       "      <td>0</td>\n",
       "      <td>Manual</td>\n",
       "      <td>4</td>\n",
       "      <td>4</td>\n",
       "    </tr>\n",
       "    <tr>\n",
       "      <th>1</th>\n",
       "      <td>Mazda RX4 Wag</td>\n",
       "      <td>21.0</td>\n",
       "      <td>6</td>\n",
       "      <td>160.0</td>\n",
       "      <td>110</td>\n",
       "      <td>3.90</td>\n",
       "      <td>2.875</td>\n",
       "      <td>17.02</td>\n",
       "      <td>0</td>\n",
       "      <td>Manual</td>\n",
       "      <td>4</td>\n",
       "      <td>4</td>\n",
       "    </tr>\n",
       "    <tr>\n",
       "      <th>2</th>\n",
       "      <td>Datsun 710</td>\n",
       "      <td>22.8</td>\n",
       "      <td>4</td>\n",
       "      <td>108.0</td>\n",
       "      <td>93</td>\n",
       "      <td>3.85</td>\n",
       "      <td>2.320</td>\n",
       "      <td>18.61</td>\n",
       "      <td>1</td>\n",
       "      <td>Manual</td>\n",
       "      <td>4</td>\n",
       "      <td>1</td>\n",
       "    </tr>\n",
       "    <tr>\n",
       "      <th>3</th>\n",
       "      <td>Hornet 4 Drive</td>\n",
       "      <td>21.4</td>\n",
       "      <td>6</td>\n",
       "      <td>258.0</td>\n",
       "      <td>110</td>\n",
       "      <td>3.08</td>\n",
       "      <td>3.215</td>\n",
       "      <td>19.44</td>\n",
       "      <td>1</td>\n",
       "      <td>Automatic</td>\n",
       "      <td>3</td>\n",
       "      <td>1</td>\n",
       "    </tr>\n",
       "    <tr>\n",
       "      <th>4</th>\n",
       "      <td>Hornet Sportabout</td>\n",
       "      <td>18.7</td>\n",
       "      <td>8</td>\n",
       "      <td>360.0</td>\n",
       "      <td>175</td>\n",
       "      <td>3.15</td>\n",
       "      <td>3.440</td>\n",
       "      <td>17.02</td>\n",
       "      <td>0</td>\n",
       "      <td>Automatic</td>\n",
       "      <td>3</td>\n",
       "      <td>2</td>\n",
       "    </tr>\n",
       "    <tr>\n",
       "      <th>5</th>\n",
       "      <td>Valiant</td>\n",
       "      <td>18.1</td>\n",
       "      <td>6</td>\n",
       "      <td>225.0</td>\n",
       "      <td>105</td>\n",
       "      <td>2.76</td>\n",
       "      <td>3.460</td>\n",
       "      <td>20.22</td>\n",
       "      <td>1</td>\n",
       "      <td>Automatic</td>\n",
       "      <td>3</td>\n",
       "      <td>1</td>\n",
       "    </tr>\n",
       "    <tr>\n",
       "      <th>6</th>\n",
       "      <td>Duster 360</td>\n",
       "      <td>14.3</td>\n",
       "      <td>8</td>\n",
       "      <td>360.0</td>\n",
       "      <td>245</td>\n",
       "      <td>3.21</td>\n",
       "      <td>3.570</td>\n",
       "      <td>15.84</td>\n",
       "      <td>0</td>\n",
       "      <td>Automatic</td>\n",
       "      <td>3</td>\n",
       "      <td>4</td>\n",
       "    </tr>\n",
       "    <tr>\n",
       "      <th>7</th>\n",
       "      <td>Merc 240D</td>\n",
       "      <td>24.4</td>\n",
       "      <td>4</td>\n",
       "      <td>146.7</td>\n",
       "      <td>62</td>\n",
       "      <td>3.69</td>\n",
       "      <td>3.190</td>\n",
       "      <td>20.00</td>\n",
       "      <td>1</td>\n",
       "      <td>Automatic</td>\n",
       "      <td>4</td>\n",
       "      <td>2</td>\n",
       "    </tr>\n",
       "    <tr>\n",
       "      <th>8</th>\n",
       "      <td>Merc 230</td>\n",
       "      <td>22.8</td>\n",
       "      <td>4</td>\n",
       "      <td>140.8</td>\n",
       "      <td>95</td>\n",
       "      <td>3.92</td>\n",
       "      <td>3.150</td>\n",
       "      <td>22.90</td>\n",
       "      <td>1</td>\n",
       "      <td>Automatic</td>\n",
       "      <td>4</td>\n",
       "      <td>2</td>\n",
       "    </tr>\n",
       "    <tr>\n",
       "      <th>9</th>\n",
       "      <td>Merc 280</td>\n",
       "      <td>19.2</td>\n",
       "      <td>6</td>\n",
       "      <td>167.6</td>\n",
       "      <td>123</td>\n",
       "      <td>3.92</td>\n",
       "      <td>3.440</td>\n",
       "      <td>18.30</td>\n",
       "      <td>1</td>\n",
       "      <td>Automatic</td>\n",
       "      <td>4</td>\n",
       "      <td>4</td>\n",
       "    </tr>\n",
       "  </tbody>\n",
       "</table>\n",
       "</div>"
      ],
      "text/plain": [
       "          car_models   mpg  cyl   disp   hp  drat     wt   qsec  vs  \\\n",
       "0          Mazda RX4  21.0    6  160.0  110  3.90  2.620  16.46   0   \n",
       "1      Mazda RX4 Wag  21.0    6  160.0  110  3.90  2.875  17.02   0   \n",
       "2         Datsun 710  22.8    4  108.0   93  3.85  2.320  18.61   1   \n",
       "3     Hornet 4 Drive  21.4    6  258.0  110  3.08  3.215  19.44   1   \n",
       "4  Hornet Sportabout  18.7    8  360.0  175  3.15  3.440  17.02   0   \n",
       "5            Valiant  18.1    6  225.0  105  2.76  3.460  20.22   1   \n",
       "6         Duster 360  14.3    8  360.0  245  3.21  3.570  15.84   0   \n",
       "7          Merc 240D  24.4    4  146.7   62  3.69  3.190  20.00   1   \n",
       "8           Merc 230  22.8    4  140.8   95  3.92  3.150  22.90   1   \n",
       "9           Merc 280  19.2    6  167.6  123  3.92  3.440  18.30   1   \n",
       "\n",
       "          am  gear  carb  \n",
       "0     Manual     4     4  \n",
       "1     Manual     4     4  \n",
       "2     Manual     4     1  \n",
       "3  Automatic     3     1  \n",
       "4  Automatic     3     2  \n",
       "5  Automatic     3     1  \n",
       "6  Automatic     3     4  \n",
       "7  Automatic     4     2  \n",
       "8  Automatic     4     2  \n",
       "9  Automatic     4     4  "
      ]
     },
     "execution_count": 802,
     "metadata": {},
     "output_type": "execute_result"
    }
   ],
   "source": [
    "cars.head(10)"
   ]
  },
  {
   "cell_type": "markdown",
   "metadata": {},
   "source": [
    "### Box and Count Plot"
   ]
  },
  {
   "cell_type": "code",
   "execution_count": 803,
   "metadata": {},
   "outputs": [
    {
     "data": {
      "image/png": "[encoded data removed]",
      "text/plain": [
       "<Figure size 1050x490 with 2 Axes>"
      ]
     },
     "metadata": {
      "needs_background": "light"
     },
     "output_type": "display_data"
    }
   ],
   "source": [
    "fig = plt.figure(figsize=(15,7), dpi=70) # setting the size and resolution of the picture\n",
    "\n",
    "plt.subplot(1,2,1) # first plot of first row with two columns\n",
    "sns.boxplot(x =\"am\", y =\"mpg\", data = cars)\n",
    "plt.xlabel('Transmission')\n",
    "plt.ylabel(\"Miles per gallon (mpg)\")\n",
    "\n",
    "plt.subplot(1,2,2)# second plot \n",
    "sns.countplot(x =\"am\", data = cars)\n",
    "plt.xlabel('Transmission')\n",
    "plt.show()"
   ]
  },
  {
   "cell_type": "markdown",
   "metadata": {},
   "source": [
    "The mean for car's with manual transmission is shigher than car's with automatic transmission, as shown in the box plot, and also, the number of cars with manual transmission is higher than car's with automatic transmission (count plot)"
   ]
  },
  {
   "cell_type": "markdown",
   "metadata": {},
   "source": [
    "### Heatmap"
   ]
  },
  {
   "cell_type": "code",
   "execution_count": 804,
   "metadata": {},
   "outputs": [
    {
     "data": {
      "image/png": "[encoded data removed]",
      "text/plain": [
       "<Figure size 840x490 with 2 Axes>"
      ]
     },
     "metadata": {
      "needs_background": "light"
     },
     "output_type": "display_data"
    }
   ],
   "source": [
    "fig = plt.figure(figsize=(12,7), dpi=70)\n",
    "sns.heatmap(cars.corr(),annot = True, cmap='viridis')\n",
    "plt.show()"
   ]
  },
  {
   "cell_type": "markdown",
   "metadata": {},
   "source": [
    "**The heatmap plotted above shows multicollinearity between variables/predictors**\n",
    "1. Highly correlated varibales are cyl, dsp, carb and wt\n",
    "2. Vraible such as gear, am, and draft, and  qsec and vs are also highly correlated"
   ]
  },
  {
   "cell_type": "markdown",
   "metadata": {},
   "source": [
    "### Correlation Bargraph"
   ]
  },
  {
   "cell_type": "code",
   "execution_count": 805,
   "metadata": {},
   "outputs": [
    {
     "data": {
      "image/png": "[encoded data removed]",
      "text/plain": [
       "<Figure size 700x490 with 1 Axes>"
      ]
     },
     "metadata": {
      "needs_background": "light"
     },
     "output_type": "display_data"
    }
   ],
   "source": [
    "fig = plt.figure(figsize=(10,7), dpi=70)\n",
    "cars.corr()['mpg'].sort_values().drop('mpg').plot(kind='bar')\n",
    "plt.show()"
   ]
  },
  {
   "cell_type": "markdown",
   "metadata": {},
   "source": [
    "The above plot shows the correlation of mpg with its predictors"
   ]
  },
  {
   "cell_type": "markdown",
   "metadata": {},
   "source": [
    "### Summary"
   ]
  },
  {
   "cell_type": "code",
   "execution_count": 806,
   "metadata": {},
   "outputs": [
    {
     "data": {
      "text/html": [
       "<div>\n",
       "<style scoped>\n",
       "    .dataframe tbody tr th:only-of-type {\n",
       "        vertical-align: middle;\n",
       "    }\n",
       "\n",
       "    .dataframe tbody tr th {\n",
       "        vertical-align: top;\n",
       "    }\n",
       "\n",
       "    .dataframe thead th {\n",
       "        text-align: right;\n",
       "    }\n",
       "</style>\n",
       "<table border=\"1\" class=\"dataframe\">\n",
       "  <thead>\n",
       "    <tr style=\"text-align: right;\">\n",
       "      <th></th>\n",
       "      <th>mpg</th>\n",
       "      <th>cyl</th>\n",
       "      <th>disp</th>\n",
       "      <th>hp</th>\n",
       "      <th>drat</th>\n",
       "      <th>wt</th>\n",
       "      <th>qsec</th>\n",
       "      <th>vs</th>\n",
       "      <th>gear</th>\n",
       "      <th>carb</th>\n",
       "    </tr>\n",
       "  </thead>\n",
       "  <tbody>\n",
       "    <tr>\n",
       "      <th>count</th>\n",
       "      <td>13.000000</td>\n",
       "      <td>13.000000</td>\n",
       "      <td>13.000000</td>\n",
       "      <td>13.000000</td>\n",
       "      <td>13.000000</td>\n",
       "      <td>13.000000</td>\n",
       "      <td>13.000000</td>\n",
       "      <td>13.000000</td>\n",
       "      <td>13.000000</td>\n",
       "      <td>13.000000</td>\n",
       "    </tr>\n",
       "    <tr>\n",
       "      <th>mean</th>\n",
       "      <td>24.392308</td>\n",
       "      <td>5.076923</td>\n",
       "      <td>143.530769</td>\n",
       "      <td>126.846154</td>\n",
       "      <td>4.050000</td>\n",
       "      <td>2.411000</td>\n",
       "      <td>17.360000</td>\n",
       "      <td>0.538462</td>\n",
       "      <td>4.384615</td>\n",
       "      <td>2.923077</td>\n",
       "    </tr>\n",
       "    <tr>\n",
       "      <th>std</th>\n",
       "      <td>6.166504</td>\n",
       "      <td>1.552500</td>\n",
       "      <td>87.203989</td>\n",
       "      <td>84.062324</td>\n",
       "      <td>0.364051</td>\n",
       "      <td>0.616982</td>\n",
       "      <td>1.792359</td>\n",
       "      <td>0.518875</td>\n",
       "      <td>0.506370</td>\n",
       "      <td>2.177978</td>\n",
       "    </tr>\n",
       "    <tr>\n",
       "      <th>min</th>\n",
       "      <td>15.000000</td>\n",
       "      <td>4.000000</td>\n",
       "      <td>71.100000</td>\n",
       "      <td>52.000000</td>\n",
       "      <td>3.540000</td>\n",
       "      <td>1.513000</td>\n",
       "      <td>14.500000</td>\n",
       "      <td>0.000000</td>\n",
       "      <td>4.000000</td>\n",
       "      <td>1.000000</td>\n",
       "    </tr>\n",
       "    <tr>\n",
       "      <th>25%</th>\n",
       "      <td>21.000000</td>\n",
       "      <td>4.000000</td>\n",
       "      <td>79.000000</td>\n",
       "      <td>66.000000</td>\n",
       "      <td>3.850000</td>\n",
       "      <td>1.935000</td>\n",
       "      <td>16.460000</td>\n",
       "      <td>0.000000</td>\n",
       "      <td>4.000000</td>\n",
       "      <td>1.000000</td>\n",
       "    </tr>\n",
       "    <tr>\n",
       "      <th>50%</th>\n",
       "      <td>22.800000</td>\n",
       "      <td>4.000000</td>\n",
       "      <td>120.300000</td>\n",
       "      <td>109.000000</td>\n",
       "      <td>4.080000</td>\n",
       "      <td>2.320000</td>\n",
       "      <td>17.020000</td>\n",
       "      <td>1.000000</td>\n",
       "      <td>4.000000</td>\n",
       "      <td>2.000000</td>\n",
       "    </tr>\n",
       "    <tr>\n",
       "      <th>75%</th>\n",
       "      <td>30.400000</td>\n",
       "      <td>6.000000</td>\n",
       "      <td>160.000000</td>\n",
       "      <td>113.000000</td>\n",
       "      <td>4.220000</td>\n",
       "      <td>2.780000</td>\n",
       "      <td>18.610000</td>\n",
       "      <td>1.000000</td>\n",
       "      <td>5.000000</td>\n",
       "      <td>4.000000</td>\n",
       "    </tr>\n",
       "    <tr>\n",
       "      <th>max</th>\n",
       "      <td>33.900000</td>\n",
       "      <td>8.000000</td>\n",
       "      <td>351.000000</td>\n",
       "      <td>335.000000</td>\n",
       "      <td>4.930000</td>\n",
       "      <td>3.570000</td>\n",
       "      <td>19.900000</td>\n",
       "      <td>1.000000</td>\n",
       "      <td>5.000000</td>\n",
       "      <td>8.000000</td>\n",
       "    </tr>\n",
       "  </tbody>\n",
       "</table>\n",
       "</div>"
      ],
      "text/plain": [
       "             mpg        cyl        disp          hp       drat         wt  \\\n",
       "count  13.000000  13.000000   13.000000   13.000000  13.000000  13.000000   \n",
       "mean   24.392308   5.076923  143.530769  126.846154   4.050000   2.411000   \n",
       "std     6.166504   1.552500   87.203989   84.062324   0.364051   0.616982   \n",
       "min    15.000000   4.000000   71.100000   52.000000   3.540000   1.513000   \n",
       "25%    21.000000   4.000000   79.000000   66.000000   3.850000   1.935000   \n",
       "50%    22.800000   4.000000  120.300000  109.000000   4.080000   2.320000   \n",
       "75%    30.400000   6.000000  160.000000  113.000000   4.220000   2.780000   \n",
       "max    33.900000   8.000000  351.000000  335.000000   4.930000   3.570000   \n",
       "\n",
       "            qsec         vs       gear       carb  \n",
       "count  13.000000  13.000000  13.000000  13.000000  \n",
       "mean   17.360000   0.538462   4.384615   2.923077  \n",
       "std     1.792359   0.518875   0.506370   2.177978  \n",
       "min    14.500000   0.000000   4.000000   1.000000  \n",
       "25%    16.460000   0.000000   4.000000   1.000000  \n",
       "50%    17.020000   1.000000   4.000000   2.000000  \n",
       "75%    18.610000   1.000000   5.000000   4.000000  \n",
       "max    19.900000   1.000000   5.000000   8.000000  "
      ]
     },
     "execution_count": 806,
     "metadata": {},
     "output_type": "execute_result"
    }
   ],
   "source": [
    "cars[(cars['am']=='Manual')].describe() # summary of data of cars with manual transmission"
   ]
  },
  {
   "cell_type": "code",
   "execution_count": 807,
   "metadata": {},
   "outputs": [
    {
     "data": {
      "text/html": [
       "<div>\n",
       "<style scoped>\n",
       "    .dataframe tbody tr th:only-of-type {\n",
       "        vertical-align: middle;\n",
       "    }\n",
       "\n",
       "    .dataframe tbody tr th {\n",
       "        vertical-align: top;\n",
       "    }\n",
       "\n",
       "    .dataframe thead th {\n",
       "        text-align: right;\n",
       "    }\n",
       "</style>\n",
       "<table border=\"1\" class=\"dataframe\">\n",
       "  <thead>\n",
       "    <tr style=\"text-align: right;\">\n",
       "      <th></th>\n",
       "      <th>mpg</th>\n",
       "      <th>cyl</th>\n",
       "      <th>disp</th>\n",
       "      <th>hp</th>\n",
       "      <th>drat</th>\n",
       "      <th>wt</th>\n",
       "      <th>qsec</th>\n",
       "      <th>vs</th>\n",
       "      <th>gear</th>\n",
       "      <th>carb</th>\n",
       "    </tr>\n",
       "  </thead>\n",
       "  <tbody>\n",
       "    <tr>\n",
       "      <th>count</th>\n",
       "      <td>19.000000</td>\n",
       "      <td>19.000000</td>\n",
       "      <td>19.000000</td>\n",
       "      <td>19.000000</td>\n",
       "      <td>19.000000</td>\n",
       "      <td>19.000000</td>\n",
       "      <td>19.000000</td>\n",
       "      <td>19.000000</td>\n",
       "      <td>19.000000</td>\n",
       "      <td>19.000000</td>\n",
       "    </tr>\n",
       "    <tr>\n",
       "      <th>mean</th>\n",
       "      <td>17.147368</td>\n",
       "      <td>6.947368</td>\n",
       "      <td>290.378947</td>\n",
       "      <td>160.263158</td>\n",
       "      <td>3.286316</td>\n",
       "      <td>3.768895</td>\n",
       "      <td>18.183158</td>\n",
       "      <td>0.368421</td>\n",
       "      <td>3.210526</td>\n",
       "      <td>2.736842</td>\n",
       "    </tr>\n",
       "    <tr>\n",
       "      <th>std</th>\n",
       "      <td>3.833966</td>\n",
       "      <td>1.544657</td>\n",
       "      <td>110.171647</td>\n",
       "      <td>53.908196</td>\n",
       "      <td>0.392304</td>\n",
       "      <td>0.777400</td>\n",
       "      <td>1.751308</td>\n",
       "      <td>0.495595</td>\n",
       "      <td>0.418854</td>\n",
       "      <td>1.147079</td>\n",
       "    </tr>\n",
       "    <tr>\n",
       "      <th>min</th>\n",
       "      <td>10.400000</td>\n",
       "      <td>4.000000</td>\n",
       "      <td>120.100000</td>\n",
       "      <td>62.000000</td>\n",
       "      <td>2.760000</td>\n",
       "      <td>2.465000</td>\n",
       "      <td>15.410000</td>\n",
       "      <td>0.000000</td>\n",
       "      <td>3.000000</td>\n",
       "      <td>1.000000</td>\n",
       "    </tr>\n",
       "    <tr>\n",
       "      <th>25%</th>\n",
       "      <td>14.950000</td>\n",
       "      <td>6.000000</td>\n",
       "      <td>196.300000</td>\n",
       "      <td>116.500000</td>\n",
       "      <td>3.070000</td>\n",
       "      <td>3.437500</td>\n",
       "      <td>17.175000</td>\n",
       "      <td>0.000000</td>\n",
       "      <td>3.000000</td>\n",
       "      <td>2.000000</td>\n",
       "    </tr>\n",
       "    <tr>\n",
       "      <th>50%</th>\n",
       "      <td>17.300000</td>\n",
       "      <td>8.000000</td>\n",
       "      <td>275.800000</td>\n",
       "      <td>175.000000</td>\n",
       "      <td>3.150000</td>\n",
       "      <td>3.520000</td>\n",
       "      <td>17.820000</td>\n",
       "      <td>0.000000</td>\n",
       "      <td>3.000000</td>\n",
       "      <td>3.000000</td>\n",
       "    </tr>\n",
       "    <tr>\n",
       "      <th>75%</th>\n",
       "      <td>19.200000</td>\n",
       "      <td>8.000000</td>\n",
       "      <td>360.000000</td>\n",
       "      <td>192.500000</td>\n",
       "      <td>3.695000</td>\n",
       "      <td>3.842500</td>\n",
       "      <td>19.170000</td>\n",
       "      <td>1.000000</td>\n",
       "      <td>3.000000</td>\n",
       "      <td>4.000000</td>\n",
       "    </tr>\n",
       "    <tr>\n",
       "      <th>max</th>\n",
       "      <td>24.400000</td>\n",
       "      <td>8.000000</td>\n",
       "      <td>472.000000</td>\n",
       "      <td>245.000000</td>\n",
       "      <td>3.920000</td>\n",
       "      <td>5.424000</td>\n",
       "      <td>22.900000</td>\n",
       "      <td>1.000000</td>\n",
       "      <td>4.000000</td>\n",
       "      <td>4.000000</td>\n",
       "    </tr>\n",
       "  </tbody>\n",
       "</table>\n",
       "</div>"
      ],
      "text/plain": [
       "             mpg        cyl        disp          hp       drat         wt  \\\n",
       "count  19.000000  19.000000   19.000000   19.000000  19.000000  19.000000   \n",
       "mean   17.147368   6.947368  290.378947  160.263158   3.286316   3.768895   \n",
       "std     3.833966   1.544657  110.171647   53.908196   0.392304   0.777400   \n",
       "min    10.400000   4.000000  120.100000   62.000000   2.760000   2.465000   \n",
       "25%    14.950000   6.000000  196.300000  116.500000   3.070000   3.437500   \n",
       "50%    17.300000   8.000000  275.800000  175.000000   3.150000   3.520000   \n",
       "75%    19.200000   8.000000  360.000000  192.500000   3.695000   3.842500   \n",
       "max    24.400000   8.000000  472.000000  245.000000   3.920000   5.424000   \n",
       "\n",
       "            qsec         vs       gear       carb  \n",
       "count  19.000000  19.000000  19.000000  19.000000  \n",
       "mean   18.183158   0.368421   3.210526   2.736842  \n",
       "std     1.751308   0.495595   0.418854   1.147079  \n",
       "min    15.410000   0.000000   3.000000   1.000000  \n",
       "25%    17.175000   0.000000   3.000000   2.000000  \n",
       "50%    17.820000   0.000000   3.000000   3.000000  \n",
       "75%    19.170000   1.000000   3.000000   4.000000  \n",
       "max    22.900000   1.000000   4.000000   4.000000  "
      ]
     },
     "execution_count": 807,
     "metadata": {},
     "output_type": "execute_result"
    }
   ],
   "source": [
    "cars[(cars['am']=='Automatic')].describe() # summary of data of cars with automatic transmission"
   ]
  },
  {
   "cell_type": "markdown",
   "metadata": {},
   "source": [
    "### Two Sample t-Test"
   ]
  },
  {
   "cell_type": "markdown",
   "metadata": {},
   "source": [
    "Null Hypothesis (H0):There is no difference in means (mpg) for cars with transmissions modes-manual and automatic"
   ]
  },
  {
   "cell_type": "code",
   "execution_count": 808,
   "metadata": {},
   "outputs": [
    {
     "name": "stdout",
     "output_type": "stream",
     "text": [
      "We reject null hypothesis Ho and accept alternate hypothesis H1 as there is differnce in means\n",
      "\n",
      "\n",
      "The mean for Manual transmission is : 24.39230769230769\n",
      "The mean for Automatic transmission is: 17.147368421052633\n"
     ]
    }
   ],
   "source": [
    "automatic_mpg = cars[(cars['am']=='Automatic')]['mpg'] # slicing mpg column data for cars with manual transmission\n",
    "manual_mpg = cars[(cars['am']== 'Manual')]['mpg'] # slicing mpg column data for cars with automatic transmission\n",
    "\n",
    "t,p-value = stats.ttest_ind(a = manual_mpg, b = automatic_mpg ,equal_var = False) # two sample t -test\n",
    "\n",
    "if p-value < 0.05:\n",
    "    print(\"We reject null hypothesis Ho and accept alternate hypothesis H1 as there is differnce in means\")\n",
    "else:\n",
    "    print(\"We accept null hypothesis that the two means are equal\")\n",
    "    \n",
    "print(\"\\n\")\n",
    "print(\"The mean for Manual transmission is :\", manual_mpg.mean()) # printing mean for cars with manual transmission\n",
    "print(\"The mean for Automatic transmission is:\", automatic_mpg.mean()) # printing mean for cars with automatic transmissio\n",
    "    \n"
   ]
  },
  {
   "cell_type": "markdown",
   "metadata": {},
   "source": [
    "## Preparing Data For Modeling"
   ]
  },
  {
   "cell_type": "code",
   "execution_count": 785,
   "metadata": {},
   "outputs": [
    {
     "data": {
      "text/html": [
       "<div>\n",
       "<style scoped>\n",
       "    .dataframe tbody tr th:only-of-type {\n",
       "        vertical-align: middle;\n",
       "    }\n",
       "\n",
       "    .dataframe tbody tr th {\n",
       "        vertical-align: top;\n",
       "    }\n",
       "\n",
       "    .dataframe thead th {\n",
       "        text-align: right;\n",
       "    }\n",
       "</style>\n",
       "<table border=\"1\" class=\"dataframe\">\n",
       "  <thead>\n",
       "    <tr style=\"text-align: right;\">\n",
       "      <th></th>\n",
       "      <th>car_models</th>\n",
       "      <th>mpg</th>\n",
       "      <th>cyl</th>\n",
       "      <th>disp</th>\n",
       "      <th>hp</th>\n",
       "      <th>drat</th>\n",
       "      <th>wt</th>\n",
       "      <th>qsec</th>\n",
       "      <th>vs</th>\n",
       "      <th>gear</th>\n",
       "      <th>carb</th>\n",
       "      <th>Manual</th>\n",
       "    </tr>\n",
       "  </thead>\n",
       "  <tbody>\n",
       "    <tr>\n",
       "      <th>0</th>\n",
       "      <td>Mazda RX4</td>\n",
       "      <td>21.0</td>\n",
       "      <td>6</td>\n",
       "      <td>160.0</td>\n",
       "      <td>110</td>\n",
       "      <td>3.90</td>\n",
       "      <td>2.620</td>\n",
       "      <td>16.46</td>\n",
       "      <td>0</td>\n",
       "      <td>4</td>\n",
       "      <td>4</td>\n",
       "      <td>1</td>\n",
       "    </tr>\n",
       "    <tr>\n",
       "      <th>1</th>\n",
       "      <td>Mazda RX4 Wag</td>\n",
       "      <td>21.0</td>\n",
       "      <td>6</td>\n",
       "      <td>160.0</td>\n",
       "      <td>110</td>\n",
       "      <td>3.90</td>\n",
       "      <td>2.875</td>\n",
       "      <td>17.02</td>\n",
       "      <td>0</td>\n",
       "      <td>4</td>\n",
       "      <td>4</td>\n",
       "      <td>1</td>\n",
       "    </tr>\n",
       "    <tr>\n",
       "      <th>2</th>\n",
       "      <td>Datsun 710</td>\n",
       "      <td>22.8</td>\n",
       "      <td>4</td>\n",
       "      <td>108.0</td>\n",
       "      <td>93</td>\n",
       "      <td>3.85</td>\n",
       "      <td>2.320</td>\n",
       "      <td>18.61</td>\n",
       "      <td>1</td>\n",
       "      <td>4</td>\n",
       "      <td>1</td>\n",
       "      <td>1</td>\n",
       "    </tr>\n",
       "    <tr>\n",
       "      <th>3</th>\n",
       "      <td>Hornet 4 Drive</td>\n",
       "      <td>21.4</td>\n",
       "      <td>6</td>\n",
       "      <td>258.0</td>\n",
       "      <td>110</td>\n",
       "      <td>3.08</td>\n",
       "      <td>3.215</td>\n",
       "      <td>19.44</td>\n",
       "      <td>1</td>\n",
       "      <td>3</td>\n",
       "      <td>1</td>\n",
       "      <td>0</td>\n",
       "    </tr>\n",
       "    <tr>\n",
       "      <th>4</th>\n",
       "      <td>Hornet Sportabout</td>\n",
       "      <td>18.7</td>\n",
       "      <td>8</td>\n",
       "      <td>360.0</td>\n",
       "      <td>175</td>\n",
       "      <td>3.15</td>\n",
       "      <td>3.440</td>\n",
       "      <td>17.02</td>\n",
       "      <td>0</td>\n",
       "      <td>3</td>\n",
       "      <td>2</td>\n",
       "      <td>0</td>\n",
       "    </tr>\n",
       "  </tbody>\n",
       "</table>\n",
       "</div>"
      ],
      "text/plain": [
       "          car_models   mpg  cyl   disp   hp  drat     wt   qsec  vs  gear  \\\n",
       "0          Mazda RX4  21.0    6  160.0  110  3.90  2.620  16.46   0     4   \n",
       "1      Mazda RX4 Wag  21.0    6  160.0  110  3.90  2.875  17.02   0     4   \n",
       "2         Datsun 710  22.8    4  108.0   93  3.85  2.320  18.61   1     4   \n",
       "3     Hornet 4 Drive  21.4    6  258.0  110  3.08  3.215  19.44   1     3   \n",
       "4  Hornet Sportabout  18.7    8  360.0  175  3.15  3.440  17.02   0     3   \n",
       "\n",
       "   carb  Manual  \n",
       "0     4       1  \n",
       "1     4       1  \n",
       "2     1       1  \n",
       "3     1       0  \n",
       "4     2       0  "
      ]
     },
     "execution_count": 785,
     "metadata": {},
     "output_type": "execute_result"
    }
   ],
   "source": [
    "# Converting \"am\" column into dummy variables\n",
    "transmission = pd.get_dummies(cars['am'])\n",
    "\n",
    "# Dropping first column \"Automatic\" from dataframe \"transmission\" \n",
    "transmission = pd.get_dummies(cars['am'], drop_first = True)\n",
    "\n",
    "# Adding the transmission to the original df dataframe\n",
    "cars = pd.concat([cars,transmission], axis = 1)\n",
    "\n",
    "# Dropping 'am' as we have created the dummies for it\n",
    "cars.drop(['am'], axis = 1, inplace = True)\n",
    "\n",
    "cars.head()"
   ]
  },
  {
   "cell_type": "markdown",
   "metadata": {},
   "source": [
    "## Models"
   ]
  },
  {
   "cell_type": "markdown",
   "metadata": {},
   "source": [
    "### Simple Linear Regression Model with One Variable"
   ]
  },
  {
   "cell_type": "code",
   "execution_count": 718,
   "metadata": {},
   "outputs": [
    {
     "name": "stdout",
     "output_type": "stream",
     "text": [
      "                            OLS Regression Results                            \n",
      "==============================================================================\n",
      "Dep. Variable:                    mpg   R-squared:                       0.360\n",
      "Model:                            OLS   Adj. R-squared:                  0.338\n",
      "Method:                 Least Squares   F-statistic:                     16.86\n",
      "Date:                Mon, 23 May 2022   Prob (F-statistic):           0.000285\n",
      "Time:                        14:45:50   Log-Likelihood:                -95.242\n",
      "No. Observations:                  32   AIC:                             194.5\n",
      "Df Residuals:                      30   BIC:                             197.4\n",
      "Df Model:                           1                                         \n",
      "Covariance Type:            nonrobust                                         \n",
      "==============================================================================\n",
      "                 coef    std err          t      P>|t|      [0.025      0.975]\n",
      "------------------------------------------------------------------------------\n",
      "const         17.1474      1.125     15.247      0.000      14.851      19.444\n",
      "Manual         7.2449      1.764      4.106      0.000       3.642      10.848\n",
      "==============================================================================\n",
      "Omnibus:                        0.480   Durbin-Watson:                   1.065\n",
      "Prob(Omnibus):                  0.787   Jarque-Bera (JB):                0.589\n",
      "Skew:                           0.051   Prob(JB):                        0.745\n",
      "Kurtosis:                       2.343   Cond. No.                         2.46\n",
      "==============================================================================\n",
      "\n",
      "Notes:\n",
      "[1] Standard Errors assume that the covariance matrix of the errors is correctly specified.\n"
     ]
    }
   ],
   "source": [
    "x = cars['Manual'] # 1 is manual and 0 is automatic\n",
    "y = cars['mpg']\n",
    "x = sm.add_constant(x) # Adding constant to the model\n",
    "model1 =sm.OLS(y,x) # Creating model\n",
    "model1 =model1.fit() # fitting model\n",
    "print(model1.summary())\n"
   ]
  },
  {
   "cell_type": "markdown",
   "metadata": {},
   "source": [
    "**The model** gives low p-value (0.000285) and low R-squares (0.36). It explains only 36 % variance in the mpg but it is statisticaly significant (low p value-less than 0.05). This variance is not only observed in our sample but also in the papulation "
   ]
  },
  {
   "cell_type": "markdown",
   "metadata": {},
   "source": [
    "### Multivariate Linear Regression Model"
   ]
  },
  {
   "cell_type": "code",
   "execution_count": 749,
   "metadata": {},
   "outputs": [
    {
     "name": "stdout",
     "output_type": "stream",
     "text": [
      "                            OLS Regression Results                            \n",
      "==============================================================================\n",
      "Dep. Variable:                    mpg   R-squared:                       0.869\n",
      "Model:                            OLS   Adj. R-squared:                  0.807\n",
      "Method:                 Least Squares   F-statistic:                     13.93\n",
      "Date:                Mon, 23 May 2022   Prob (F-statistic):           3.79e-07\n",
      "Time:                        15:06:51   Log-Likelihood:                -69.855\n",
      "No. Observations:                  32   AIC:                             161.7\n",
      "Df Residuals:                      21   BIC:                             177.8\n",
      "Df Model:                          10                                         \n",
      "Covariance Type:            nonrobust                                         \n",
      "==============================================================================\n",
      "                 coef    std err          t      P>|t|      [0.025      0.975]\n",
      "------------------------------------------------------------------------------\n",
      "const         12.3034     18.718      0.657      0.518     -26.623      51.229\n",
      "cyl           -0.1114      1.045     -0.107      0.916      -2.285       2.062\n",
      "disp           0.0133      0.018      0.747      0.463      -0.024       0.050\n",
      "hp            -0.0215      0.022     -0.987      0.335      -0.067       0.024\n",
      "drat           0.7871      1.635      0.481      0.635      -2.614       4.188\n",
      "wt            -3.7153      1.894     -1.961      0.063      -7.655       0.224\n",
      "qsec           0.8210      0.731      1.123      0.274      -0.699       2.341\n",
      "vs             0.3178      2.105      0.151      0.881      -4.059       4.694\n",
      "Manual         2.5202      2.057      1.225      0.234      -1.757       6.797\n",
      "gear           0.6554      1.493      0.439      0.665      -2.450       3.761\n",
      "carb          -0.1994      0.829     -0.241      0.812      -1.923       1.524\n",
      "==============================================================================\n",
      "Omnibus:                        1.907   Durbin-Watson:                   1.861\n",
      "Prob(Omnibus):                  0.385   Jarque-Bera (JB):                1.747\n",
      "Skew:                           0.521   Prob(JB):                        0.418\n",
      "Kurtosis:                       2.526   Cond. No.                     1.22e+04\n",
      "==============================================================================\n",
      "\n",
      "Notes:\n",
      "[1] Standard Errors assume that the covariance matrix of the errors is correctly specified.\n",
      "[2] The condition number is large, 1.22e+04. This might indicate that there are\n",
      "strong multicollinearity or other numerical problems.\n"
     ]
    }
   ],
   "source": [
    "x = cars[['cyl', 'disp', 'hp', 'drat', 'wt', 'qsec', 'vs','Manual', 'gear', 'carb']]\n",
    "y = cars['mpg']\n",
    "x = sm.add_constant(x)\n",
    "model2 =sm.OLS(y,x)\n",
    "model2 =model2.fit()\n",
    "print(model2.summary())"
   ]
  },
  {
   "cell_type": "markdown",
   "metadata": {},
   "source": [
    "**The above model** explains 87 % variance but most of the predictors have high p-values except wt, am, and qsec which has low p-values-theri contribution to mpg \n",
    "is statistically significant. From the above summary, we found that that draft, wt, qsec, vs, am, and gear effects mpg (see coeff), but to ovoid overfitting, we will select only those variables which have high coefficents and are statistically significant (low p-value). Therefore we will use only wt, am, and qsec wihh low-p-values as \n",
    "independent variables/predictors for  our final model "
   ]
  },
  {
   "cell_type": "markdown",
   "metadata": {},
   "source": [
    "### Final Linear Regression Model"
   ]
  },
  {
   "cell_type": "code",
   "execution_count": 752,
   "metadata": {},
   "outputs": [
    {
     "name": "stdout",
     "output_type": "stream",
     "text": [
      "                            OLS Regression Results                            \n",
      "==============================================================================\n",
      "Dep. Variable:                    mpg   R-squared:                       0.850\n",
      "Model:                            OLS   Adj. R-squared:                  0.834\n",
      "Method:                 Least Squares   F-statistic:                     52.75\n",
      "Date:                Mon, 23 May 2022   Prob (F-statistic):           1.21e-11\n",
      "Time:                        15:08:40   Log-Likelihood:                -72.060\n",
      "No. Observations:                  32   AIC:                             152.1\n",
      "Df Residuals:                      28   BIC:                             158.0\n",
      "Df Model:                           3                                         \n",
      "Covariance Type:            nonrobust                                         \n",
      "==============================================================================\n",
      "                 coef    std err          t      P>|t|      [0.025      0.975]\n",
      "------------------------------------------------------------------------------\n",
      "const          9.6178      6.960      1.382      0.178      -4.638      23.874\n",
      "wt            -3.9165      0.711     -5.507      0.000      -5.373      -2.460\n",
      "Manual         2.9358      1.411      2.081      0.047       0.046       5.826\n",
      "qsec           1.2259      0.289      4.247      0.000       0.635       1.817\n",
      "==============================================================================\n",
      "Omnibus:                        2.574   Durbin-Watson:                   1.714\n",
      "Prob(Omnibus):                  0.276   Jarque-Bera (JB):                2.213\n",
      "Skew:                           0.540   Prob(JB):                        0.331\n",
      "Kurtosis:                       2.297   Cond. No.                         296.\n",
      "==============================================================================\n",
      "\n",
      "Notes:\n",
      "[1] Standard Errors assume that the covariance matrix of the errors is correctly specified.\n"
     ]
    }
   ],
   "source": [
    "x = cars[[ 'wt','Manual','qsec']]\n",
    "y = cars['mpg']\n",
    "x = sm.add_constant(x)\n",
    "best_model =sm.OLS(y,x)\n",
    "best_model =best_model.fit()\n",
    "print(best_model.summary())"
   ]
  },
  {
   "cell_type": "markdown",
   "metadata": {},
   "source": [
    "**The models** explains 85% variance in the data and this variance is statistically significant (low p-values)"
   ]
  },
  {
   "cell_type": "markdown",
   "metadata": {},
   "source": [
    "### ANOVA Test"
   ]
  },
  {
   "cell_type": "code",
   "execution_count": 756,
   "metadata": {},
   "outputs": [
    {
     "name": "stdout",
     "output_type": "stream",
     "text": [
      "   Models        Pr(>F)\n",
      "0  model1           NaN\n",
      "1  modle3  7.502138e-09\n",
      "2  model2  8.636073e-01\n"
     ]
    }
   ],
   "source": [
    "df_1 = sm.stats.anova_lm(model1,model3,model2)\n",
    "df_2 =pd.DataFrame({'Models':['model1','modle3','model2']})\n",
    "df_3 = pd.concat([df_2,df_1], axis = 1)\n",
    "print(df_3[['Models','Pr(>F)']])"
   ]
  },
  {
   "cell_type": "markdown",
   "metadata": {},
   "source": [
    "Anova test determines that model3 is the best model as it has the lowet p-value\n",
    "\n",
    "\n",
    "\n",
    "\n"
   ]
  },
  {
   "cell_type": "markdown",
   "metadata": {},
   "source": [
    "## Summary"
   ]
  },
  {
   "cell_type": "markdown",
   "metadata": {},
   "source": [
    "It looks like the best model is the one that includes wt, qsec and am, which means besides transmission types, weight and accelearation also needs to be considered. The model is able to explain 85% of variance. Weight negatively changes mpg, and qsec and am positively changes mpg. Every lb/1000 weight increase will cause a decrease of roughly 4 mpg, every increase of 1/4 mile time will cause an increase of 1.2 mpg, and on average, manual transmission is 2.9 mpg better than automatic transmission. The residual plots also seems to be randomly scattered (see appendix).\n",
    "\n",
    "Conclusion:\n",
    "On average, manual transmission is better than automatic transmission by 2.9 mpg. However, transmission type is not the only factor accounting for MPG, weight, and acceleration (1/4 mile time) also needs to be considered."
   ]
  },
  {
   "cell_type": "markdown",
   "metadata": {},
   "source": [
    "## Linear Model Diagnostic Tests \n",
    "### Linearity and Normality"
   ]
  },
  {
   "cell_type": "code",
   "execution_count": 787,
   "metadata": {},
   "outputs": [],
   "source": [
    "x = cars[[ 'wt','Manual','qsec']]\n",
    "x = sm.add_constant(x)\n",
    "fitted = model3.predict(x)"
   ]
  },
  {
   "cell_type": "code",
   "execution_count": 809,
   "metadata": {},
   "outputs": [
    {
     "data": {
      "image/png": "[encoded data removed]",
      "text/plain": [
       "<Figure size 840x350 with 2 Axes>"
      ]
     },
     "metadata": {
      "needs_background": "light"
     },
     "output_type": "display_data"
    }
   ],
   "source": [
    "import warnings\n",
    "warnings.filterwarnings(\"ignore\")\n",
    "residuals = y-fitted\n",
    "\n",
    "# Testing linearty by plotting fitted versus actual mpg (left graph)\n",
    "# The dat poins should lie around the diagnal line on the plot\n",
    "fig = plt.figure(figsize=(12,5), dpi=70)\n",
    "plt.subplot(1,2,1)\n",
    "plt.scatter(y,fitted)\n",
    "plt.title(\"Fitted vs Actual\")\n",
    "plt.xlabel('Actual mpg')\n",
    "plt.ylabel('Fitted mpg')\n",
    "\n",
    "df_results = pd.DataFrame({\"Actual\": y, \"Predicted\": fitted}) # drawing diaognal line\n",
    "d_line= np.arange(df_results.min().min(), df_results.max().max())\n",
    "plt.plot(d_line, d_line, color='red', linestyle='--')\n",
    "\n",
    "# Checking normality-the residuals/error terms of the model should be normally distributed (right graph)\n",
    "# Note: if the realtion between predictors and response is not linear, then assumption (normailty)\n",
    "# might be viltaed\n",
    "plt.subplot(1,2,2) \n",
    "sns.distplot(residuals,bins = 10, color ='blue',kde = True)\n",
    "plt.tight_layout()"
   ]
  },
  {
   "cell_type": "markdown",
   "metadata": {},
   "source": [
    "### Relation Between Predictors Variables and Response For \"model3\""
   ]
  },
  {
   "cell_type": "code",
   "execution_count": 759,
   "metadata": {},
   "outputs": [
    {
     "data": {
      "image/png": "[encoded data removed]",
      "text/plain": [
       "<Figure size 840x700 with 4 Axes>"
      ]
     },
     "metadata": {
      "needs_background": "light"
     },
     "output_type": "display_data"
    }
   ],
   "source": [
    "# setting picture size and resolution\n",
    "fig = plt.figure(figsize=(12,10), dpi=70) \n",
    "\n",
    "# ploting scatter graph between predictor (mpg) versus response for all variables of model3\n",
    "fig = sm.graphics.plot_partregress_grid(model3, fig = fig) "
   ]
  },
  {
   "cell_type": "markdown",
   "metadata": {},
   "source": [
    "### Residual plot"
   ]
  },
  {
   "cell_type": "code",
   "execution_count": 794,
   "metadata": {},
   "outputs": [
    {
     "data": {
      "image/png": "[encoded data removed]",
      "text/plain": [
       "<Figure size 1050x490 with 1 Axes>"
      ]
     },
     "metadata": {
      "needs_background": "light"
     },
     "output_type": "display_data"
    }
   ],
   "source": [
    "fig = plt.figure(figsize=(15,7), dpi=70) # setting picture resolution and size\n",
    "plt.scatter(fitted,residuals)\n",
    "plt.xlabel('Fitted')\n",
    "plt.ylabel('Residuals')\n",
    "plt.axhline(y = 0, color = 'r', linestyle = '-') # drawing horizontal line\n",
    "plt.show()"
   ]
  },
  {
   "cell_type": "markdown",
   "metadata": {},
   "source": [
    "The points are randomly scatterd around the horizontaline and there seems no pattern to the points that shows the goodness of our model."
   ]
  },
  {
   "cell_type": "code",
   "execution_count": null,
   "metadata": {},
   "outputs": [],
   "source": [
    "# fig1 = sm.qqplot(residuals, line='45')\n",
    "# plt.show()\n"
   ]
  }
 ],
 "metadata": {
  "kernelspec": {
   "display_name": "Python 3",
   "language": "python",
   "name": "python3"
  },
  "language_info": {
   "codemirror_mode": {
    "name": "ipython",
    "version": 3
   },
   "file_extension": ".py",
   "mimetype": "text/x-python",
   "name": "python",
   "nbconvert_exporter": "python",
   "pygments_lexer": "ipython3",
   "version": "3.8.5"
  }
 },
 "nbformat": 4,
 "nbformat_minor": 4
}
